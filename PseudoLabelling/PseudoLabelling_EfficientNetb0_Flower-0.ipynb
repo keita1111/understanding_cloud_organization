{
 "cells": [
  {
   "cell_type": "markdown",
   "metadata": {},
   "source": [
    "# 0. Overview"
   ]
  },
  {
   "cell_type": "markdown",
   "metadata": {},
   "source": [
    "## 0.1 Versions\n",
    " - ClassEffb0_001<br>\n",
    " Baseline Model<br>\n",
    " - ClassEffb0_002<br>\n",
    " 16 Fold, Weight 1-1 Pos-Neg\n"
   ]
  },
  {
   "cell_type": "code",
   "execution_count": 1,
   "metadata": {},
   "outputs": [],
   "source": [
    "import numpy as np\n",
    "import pandas as pd\n",
    "import matplotlib.pyplot as plt\n",
    "\n",
    "import os, cv2, time, random\n",
    "from tqdm import tqdm, tqdm_notebook\n",
    "\n",
    "from sklearn.model_selection import train_test_split\n",
    "from sklearn.model_selection import StratifiedKFold\n",
    "from sklearn.metrics import roc_auc_score\n",
    "\n",
    "import torch\n",
    "import torchvision\n",
    "import torch.nn as nn\n",
    "import torch.optim as optim\n",
    "import torch.nn.functional as F\n",
    "from torch.optim import lr_scheduler\n",
    "import torchvision.transforms as transforms\n",
    "from torch.utils.data.sampler import SubsetRandomSampler\n",
    "from torch.utils.data import TensorDataset, DataLoader, Dataset\n",
    "from torch.optim.lr_scheduler import StepLR, ReduceLROnPlateau\n",
    "\n",
    "import albumentations as albu\n"
   ]
  },
  {
   "cell_type": "code",
   "execution_count": 2,
   "metadata": {},
   "outputs": [],
   "source": [
    "N_SPLITS = 16\n",
    "SEED = 1234\n",
    "FOLD = 0\n",
    "CLOUD_TYPE = 'Flower'\n",
    "VERSION = f'ClassEff002_{CLOUD_TYPE}_{FOLD}'\n",
    "PATH = '../input'\n",
    "TRAIN_PATH = '../input/resized_images/train_images_525'\n",
    "TEST_PATH = '../input/resized_images/test_images_525' \n",
    "TRAIN_MASK_PATH = '../input/resized_images/train_masks_525'\n",
    "WEIGHT_PATH = '../input/weights'\n",
    "SUBMISSION_PATH = '../input/submissions'\n",
    "N_JOBS = 7\n",
    "\n",
    "DEVICE_NUM=1\n",
    "DEVICE = torch.device(f\"cuda:{DEVICE_NUM}\" if torch.cuda.is_available() else \"cpu\")\n",
    "torch.cuda.set_device(DEVICE_NUM) \n",
    "train_on_gpu = torch.cuda.is_available()\n",
    "\n",
    "IMAGE_SIZE = (1400, 2100)\n",
    "IMAGE_SIZE_525 = (350, 525)"
   ]
  },
  {
   "cell_type": "code",
   "execution_count": 3,
   "metadata": {},
   "outputs": [],
   "source": [
    "def seed_everything(seed=SEED):\n",
    "    random.seed(seed)\n",
    "    os.environ[\"PYTHONHASHSEED\"] = str(seed)\n",
    "    np.random.seed(seed)\n",
    "    torch.manual_seed(seed)\n",
    "    torch.cuda.manual_seed(seed)\n",
    "    torch.backends.cudnn.deterministic = True"
   ]
  },
  {
   "cell_type": "markdown",
   "metadata": {},
   "source": [
    "# 1. Preparation"
   ]
  },
  {
   "cell_type": "markdown",
   "metadata": {},
   "source": [
    "## 1.1 Load Datasets"
   ]
  },
  {
   "cell_type": "code",
   "execution_count": 4,
   "metadata": {},
   "outputs": [
    {
     "name": "stdout",
     "output_type": "stream",
     "text": [
      "(5546, 6)\n"
     ]
    },
    {
     "data": {
      "text/html": [
       "<div>\n",
       "<style scoped>\n",
       "    .dataframe tbody tr th:only-of-type {\n",
       "        vertical-align: middle;\n",
       "    }\n",
       "\n",
       "    .dataframe tbody tr th {\n",
       "        vertical-align: top;\n",
       "    }\n",
       "\n",
       "    .dataframe thead th {\n",
       "        text-align: right;\n",
       "    }\n",
       "</style>\n",
       "<table border=\"1\" class=\"dataframe\">\n",
       "  <thead>\n",
       "    <tr style=\"text-align: right;\">\n",
       "      <th></th>\n",
       "      <th>Image_Label</th>\n",
       "      <th>EncodedPixels</th>\n",
       "      <th>ImageId</th>\n",
       "      <th>Class</th>\n",
       "      <th>hasMask</th>\n",
       "      <th>class_id</th>\n",
       "    </tr>\n",
       "  </thead>\n",
       "  <tbody>\n",
       "    <tr>\n",
       "      <th>0</th>\n",
       "      <td>0011165.jpg_Flower</td>\n",
       "      <td>1355565 1002 1356965 1002 1358365 1002 1359765...</td>\n",
       "      <td>0011165.jpg</td>\n",
       "      <td>Flower</td>\n",
       "      <td>1</td>\n",
       "      <td>2</td>\n",
       "    </tr>\n",
       "    <tr>\n",
       "      <th>1</th>\n",
       "      <td>002be4f.jpg_Flower</td>\n",
       "      <td>1339279 519 1340679 519 1342079 519 1343479 51...</td>\n",
       "      <td>002be4f.jpg</td>\n",
       "      <td>Flower</td>\n",
       "      <td>1</td>\n",
       "      <td>2</td>\n",
       "    </tr>\n",
       "    <tr>\n",
       "      <th>2</th>\n",
       "      <td>0031ae9.jpg_Flower</td>\n",
       "      <td>2047 703 3447 703 4847 703 6247 703 7647 703 9...</td>\n",
       "      <td>0031ae9.jpg</td>\n",
       "      <td>Flower</td>\n",
       "      <td>1</td>\n",
       "      <td>2</td>\n",
       "    </tr>\n",
       "    <tr>\n",
       "      <th>3</th>\n",
       "      <td>0035239.jpg_Flower</td>\n",
       "      <td>100812 462 102212 462 103612 462 105012 462 10...</td>\n",
       "      <td>0035239.jpg</td>\n",
       "      <td>Flower</td>\n",
       "      <td>1</td>\n",
       "      <td>2</td>\n",
       "    </tr>\n",
       "    <tr>\n",
       "      <th>4</th>\n",
       "      <td>003994e.jpg_Flower</td>\n",
       "      <td>NaN</td>\n",
       "      <td>003994e.jpg</td>\n",
       "      <td>Flower</td>\n",
       "      <td>0</td>\n",
       "      <td>2</td>\n",
       "    </tr>\n",
       "  </tbody>\n",
       "</table>\n",
       "</div>"
      ],
      "text/plain": [
       "          Image_Label                                      EncodedPixels  \\\n",
       "0  0011165.jpg_Flower  1355565 1002 1356965 1002 1358365 1002 1359765...   \n",
       "1  002be4f.jpg_Flower  1339279 519 1340679 519 1342079 519 1343479 51...   \n",
       "2  0031ae9.jpg_Flower  2047 703 3447 703 4847 703 6247 703 7647 703 9...   \n",
       "3  0035239.jpg_Flower  100812 462 102212 462 103612 462 105012 462 10...   \n",
       "4  003994e.jpg_Flower                                                NaN   \n",
       "\n",
       "       ImageId   Class  hasMask  class_id  \n",
       "0  0011165.jpg  Flower        1         2  \n",
       "1  002be4f.jpg  Flower        1         2  \n",
       "2  0031ae9.jpg  Flower        1         2  \n",
       "3  0035239.jpg  Flower        1         2  \n",
       "4  003994e.jpg  Flower        0         2  "
      ]
     },
     "execution_count": 4,
     "metadata": {},
     "output_type": "execute_result"
    }
   ],
   "source": [
    "class_names_dict = {'Fish':1, 'Flower':2, 'Gravel':3, 'Sugar':4}\n",
    "train_df = pd.read_csv('../input/train.csv')\n",
    "train_df['ImageId'] = train_df['Image_Label'].apply(lambda x: x.split('_')[0])\n",
    "train_df['Class'] = train_df['Image_Label'].apply(lambda x: x.split('_')[1])\n",
    "train_df = train_df[train_df['Class']==CLOUD_TYPE].reset_index(drop=True)\n",
    "train_df['hasMask'] = ~ train_df['EncodedPixels'].isna()\n",
    "train_df['hasMask'] = train_df['hasMask'].astype(int)\n",
    "train_df['class_id'] = train_df['Class'].map(class_names_dict)\n",
    "\n",
    "print(train_df.shape)\n",
    "train_df.head()"
   ]
  },
  {
   "cell_type": "code",
   "execution_count": 5,
   "metadata": {},
   "outputs": [
    {
     "data": {
      "text/html": [
       "<div>\n",
       "<style scoped>\n",
       "    .dataframe tbody tr th:only-of-type {\n",
       "        vertical-align: middle;\n",
       "    }\n",
       "\n",
       "    .dataframe tbody tr th {\n",
       "        vertical-align: top;\n",
       "    }\n",
       "\n",
       "    .dataframe thead th {\n",
       "        text-align: right;\n",
       "    }\n",
       "</style>\n",
       "<table border=\"1\" class=\"dataframe\">\n",
       "  <thead>\n",
       "    <tr style=\"text-align: right;\">\n",
       "      <th></th>\n",
       "      <th>Image_Label</th>\n",
       "      <th>EncodedPixels</th>\n",
       "      <th>ImageId</th>\n",
       "      <th>Class</th>\n",
       "    </tr>\n",
       "  </thead>\n",
       "  <tbody>\n",
       "    <tr>\n",
       "      <th>0</th>\n",
       "      <td>002f507.jpg_Flower</td>\n",
       "      <td>1 1</td>\n",
       "      <td>002f507.jpg</td>\n",
       "      <td>Flower</td>\n",
       "    </tr>\n",
       "    <tr>\n",
       "      <th>1</th>\n",
       "      <td>0035ae9.jpg_Flower</td>\n",
       "      <td>1 1</td>\n",
       "      <td>0035ae9.jpg</td>\n",
       "      <td>Flower</td>\n",
       "    </tr>\n",
       "    <tr>\n",
       "      <th>2</th>\n",
       "      <td>0038327.jpg_Flower</td>\n",
       "      <td>1 1</td>\n",
       "      <td>0038327.jpg</td>\n",
       "      <td>Flower</td>\n",
       "    </tr>\n",
       "    <tr>\n",
       "      <th>3</th>\n",
       "      <td>004f759.jpg_Flower</td>\n",
       "      <td>1 1</td>\n",
       "      <td>004f759.jpg</td>\n",
       "      <td>Flower</td>\n",
       "    </tr>\n",
       "    <tr>\n",
       "      <th>4</th>\n",
       "      <td>005ba08.jpg_Flower</td>\n",
       "      <td>1 1</td>\n",
       "      <td>005ba08.jpg</td>\n",
       "      <td>Flower</td>\n",
       "    </tr>\n",
       "  </tbody>\n",
       "</table>\n",
       "</div>"
      ],
      "text/plain": [
       "          Image_Label EncodedPixels      ImageId   Class\n",
       "0  002f507.jpg_Flower           1 1  002f507.jpg  Flower\n",
       "1  0035ae9.jpg_Flower           1 1  0035ae9.jpg  Flower\n",
       "2  0038327.jpg_Flower           1 1  0038327.jpg  Flower\n",
       "3  004f759.jpg_Flower           1 1  004f759.jpg  Flower\n",
       "4  005ba08.jpg_Flower           1 1  005ba08.jpg  Flower"
      ]
     },
     "execution_count": 5,
     "metadata": {},
     "output_type": "execute_result"
    }
   ],
   "source": [
    "sub_df = pd.read_csv('../input/sample_submission.csv')\n",
    "sub_df['ImageId'] = sub_df['Image_Label'].apply(lambda x: x.split('_')[0])\n",
    "sub_df['Class'] = sub_df['Image_Label'].apply(lambda x: x.split('_')[1])\n",
    "sub_df = sub_df[sub_df['Class']==CLOUD_TYPE].reset_index(drop=True)\n",
    "test_imgs = pd.DataFrame(sub_df['ImageId'].unique(), columns=['ImageId'])\n",
    "sub_df.head()"
   ]
  },
  {
   "cell_type": "markdown",
   "metadata": {},
   "source": [
    "## 1.2 Split Data"
   ]
  },
  {
   "cell_type": "code",
   "execution_count": 6,
   "metadata": {},
   "outputs": [
    {
     "data": {
      "text/html": [
       "<div>\n",
       "<style scoped>\n",
       "    .dataframe tbody tr th:only-of-type {\n",
       "        vertical-align: middle;\n",
       "    }\n",
       "\n",
       "    .dataframe tbody tr th {\n",
       "        vertical-align: top;\n",
       "    }\n",
       "\n",
       "    .dataframe thead th {\n",
       "        text-align: right;\n",
       "    }\n",
       "</style>\n",
       "<table border=\"1\" class=\"dataframe\">\n",
       "  <thead>\n",
       "    <tr style=\"text-align: right;\">\n",
       "      <th></th>\n",
       "      <th>Image_Label</th>\n",
       "      <th>EncodedPixels</th>\n",
       "      <th>ImageId</th>\n",
       "      <th>Class</th>\n",
       "      <th>hasMask</th>\n",
       "      <th>class_id</th>\n",
       "      <th>pixel_count</th>\n",
       "      <th>pixel_percentile_id</th>\n",
       "      <th>group</th>\n",
       "    </tr>\n",
       "  </thead>\n",
       "  <tbody>\n",
       "    <tr>\n",
       "      <th>0</th>\n",
       "      <td>0011165.jpg_Flower</td>\n",
       "      <td>1355565 1002 1356965 1002 1358365 1002 1359765...</td>\n",
       "      <td>0011165.jpg</td>\n",
       "      <td>Flower</td>\n",
       "      <td>1</td>\n",
       "      <td>2</td>\n",
       "      <td>1156107</td>\n",
       "      <td>3</td>\n",
       "      <td>1_3</td>\n",
       "    </tr>\n",
       "    <tr>\n",
       "      <th>1</th>\n",
       "      <td>002be4f.jpg_Flower</td>\n",
       "      <td>1339279 519 1340679 519 1342079 519 1343479 51...</td>\n",
       "      <td>002be4f.jpg</td>\n",
       "      <td>Flower</td>\n",
       "      <td>1</td>\n",
       "      <td>2</td>\n",
       "      <td>592697</td>\n",
       "      <td>1</td>\n",
       "      <td>1_1</td>\n",
       "    </tr>\n",
       "    <tr>\n",
       "      <th>2</th>\n",
       "      <td>0031ae9.jpg_Flower</td>\n",
       "      <td>2047 703 3447 703 4847 703 6247 703 7647 703 9...</td>\n",
       "      <td>0031ae9.jpg</td>\n",
       "      <td>Flower</td>\n",
       "      <td>1</td>\n",
       "      <td>2</td>\n",
       "      <td>1178858</td>\n",
       "      <td>3</td>\n",
       "      <td>1_3</td>\n",
       "    </tr>\n",
       "    <tr>\n",
       "      <th>3</th>\n",
       "      <td>0035239.jpg_Flower</td>\n",
       "      <td>100812 462 102212 462 103612 462 105012 462 10...</td>\n",
       "      <td>0035239.jpg</td>\n",
       "      <td>Flower</td>\n",
       "      <td>1</td>\n",
       "      <td>2</td>\n",
       "      <td>655989</td>\n",
       "      <td>2</td>\n",
       "      <td>1_2</td>\n",
       "    </tr>\n",
       "    <tr>\n",
       "      <th>4</th>\n",
       "      <td>003994e.jpg_Flower</td>\n",
       "      <td>NaN</td>\n",
       "      <td>003994e.jpg</td>\n",
       "      <td>Flower</td>\n",
       "      <td>0</td>\n",
       "      <td>2</td>\n",
       "      <td>0</td>\n",
       "      <td>0</td>\n",
       "      <td>0_0</td>\n",
       "    </tr>\n",
       "  </tbody>\n",
       "</table>\n",
       "</div>"
      ],
      "text/plain": [
       "          Image_Label                                      EncodedPixels  \\\n",
       "0  0011165.jpg_Flower  1355565 1002 1356965 1002 1358365 1002 1359765...   \n",
       "1  002be4f.jpg_Flower  1339279 519 1340679 519 1342079 519 1343479 51...   \n",
       "2  0031ae9.jpg_Flower  2047 703 3447 703 4847 703 6247 703 7647 703 9...   \n",
       "3  0035239.jpg_Flower  100812 462 102212 462 103612 462 105012 462 10...   \n",
       "4  003994e.jpg_Flower                                                NaN   \n",
       "\n",
       "       ImageId   Class  hasMask  class_id  pixel_count  pixel_percentile_id  \\\n",
       "0  0011165.jpg  Flower        1         2      1156107                    3   \n",
       "1  002be4f.jpg  Flower        1         2       592697                    1   \n",
       "2  0031ae9.jpg  Flower        1         2      1178858                    3   \n",
       "3  0035239.jpg  Flower        1         2       655989                    2   \n",
       "4  003994e.jpg  Flower        0         2            0                    0   \n",
       "\n",
       "  group  \n",
       "0   1_3  \n",
       "1   1_1  \n",
       "2   1_3  \n",
       "3   1_2  \n",
       "4   0_0  "
      ]
     },
     "execution_count": 6,
     "metadata": {},
     "output_type": "execute_result"
    }
   ],
   "source": [
    "def rle_decode(mask_rle: str = '', shape: tuple = (1400, 2100)):\n",
    "    '''\n",
    "    Decode rle encoded mask.\n",
    "    :param mask_rle: run-length as string formatted (start length)\n",
    "    :param shape: (height, width) of array to return\n",
    "    Returns numpy array, 1 - mask, 0 - background\n",
    "    '''\n",
    "    s = mask_rle.split()\n",
    "    starts, lengths = [np.asarray(x, dtype=int) for x in (s[0:][::2], s[1:][::2])]\n",
    "    starts -= 1\n",
    "    ends = starts + lengths\n",
    "    img = np.zeros(shape[0] * shape[1], dtype=np.uint8)\n",
    "    for lo, hi in zip(starts, ends):\n",
    "        img[lo:hi] = 1\n",
    "    return img.reshape(shape, order='F')\n",
    "\n",
    "def make_mask_count(df: pd.DataFrame, image_name: str='img.jpg', shape: tuple = (1400, 2100)):\n",
    "    \"\"\"\n",
    "    Create mask based on df, image name and shape.\n",
    "    \"\"\"\n",
    "    encoded_masks = df\n",
    "    masks = np.zeros((shape[0], shape[1]), dtype=np.float32)\n",
    "    if encoded_masks is np.nan:\n",
    "        masks = 0\n",
    "    else:\n",
    "        mask = rle_decode(encoded_masks)\n",
    "        masks[:, :] = mask\n",
    "        masks = np.sum(masks==1)\n",
    "    return masks\n",
    "\n",
    "def make_percentile(pixel_count, q33, q66):    \n",
    "    if pixel_count == 0.0:\n",
    "        percentile = 0\n",
    "    elif pixel_count > 0.0 and pixel_count <= q33:\n",
    "        percentile = 1\n",
    "    elif pixel_count > q33 and pixel_count <= q66:\n",
    "        percentile = 2\n",
    "    elif pixel_count > q66:\n",
    "        percentile = 3\n",
    "    return percentile\n",
    "\n",
    "train_df['pixel_count'] = train_df[\"EncodedPixels\"].apply(make_mask_count)\n",
    "pixels_nonzero = train_df[train_df['pixel_count']>0]['pixel_count']\n",
    "q33, q66 = np.percentile(pixels_nonzero, [33, 66])\n",
    "train_df['pixel_percentile_id'] = train_df[\"pixel_count\"].apply(lambda x: make_percentile(x, q33, q66))\n",
    "train_df['group'] = train_df[\"hasMask\"].astype(str)+'_'+train_df[\"pixel_percentile_id\"].astype(str)\n",
    "train_df.head()"
   ]
  },
  {
   "cell_type": "code",
   "execution_count": 7,
   "metadata": {},
   "outputs": [
    {
     "name": "stdout",
     "output_type": "stream",
     "text": [
      "(5546, 4)\n"
     ]
    },
    {
     "data": {
      "text/html": [
       "<div>\n",
       "<style scoped>\n",
       "    .dataframe tbody tr th:only-of-type {\n",
       "        vertical-align: middle;\n",
       "    }\n",
       "\n",
       "    .dataframe tbody tr th {\n",
       "        vertical-align: top;\n",
       "    }\n",
       "\n",
       "    .dataframe thead th {\n",
       "        text-align: right;\n",
       "    }\n",
       "</style>\n",
       "<table border=\"1\" class=\"dataframe\">\n",
       "  <thead>\n",
       "    <tr style=\"text-align: right;\">\n",
       "      <th></th>\n",
       "      <th>ImageId</th>\n",
       "      <th>pixel_percentile_id</th>\n",
       "      <th>hasMask</th>\n",
       "      <th>group</th>\n",
       "    </tr>\n",
       "  </thead>\n",
       "  <tbody>\n",
       "    <tr>\n",
       "      <th>0</th>\n",
       "      <td>0011165.jpg</td>\n",
       "      <td>3</td>\n",
       "      <td>1</td>\n",
       "      <td>1_3</td>\n",
       "    </tr>\n",
       "    <tr>\n",
       "      <th>3026</th>\n",
       "      <td>89ceea7.jpg</td>\n",
       "      <td>3</td>\n",
       "      <td>1</td>\n",
       "      <td>1_3</td>\n",
       "    </tr>\n",
       "    <tr>\n",
       "      <th>3088</th>\n",
       "      <td>8ca9d01.jpg</td>\n",
       "      <td>3</td>\n",
       "      <td>1</td>\n",
       "      <td>1_3</td>\n",
       "    </tr>\n",
       "    <tr>\n",
       "      <th>782</th>\n",
       "      <td>2325bfb.jpg</td>\n",
       "      <td>3</td>\n",
       "      <td>1</td>\n",
       "      <td>1_3</td>\n",
       "    </tr>\n",
       "    <tr>\n",
       "      <th>3073</th>\n",
       "      <td>8bf41bf.jpg</td>\n",
       "      <td>3</td>\n",
       "      <td>1</td>\n",
       "      <td>1_3</td>\n",
       "    </tr>\n",
       "  </tbody>\n",
       "</table>\n",
       "</div>"
      ],
      "text/plain": [
       "          ImageId  pixel_percentile_id  hasMask group\n",
       "0     0011165.jpg                    3        1   1_3\n",
       "3026  89ceea7.jpg                    3        1   1_3\n",
       "3088  8ca9d01.jpg                    3        1   1_3\n",
       "782   2325bfb.jpg                    3        1   1_3\n",
       "3073  8bf41bf.jpg                    3        1   1_3"
      ]
     },
     "execution_count": 7,
     "metadata": {},
     "output_type": "execute_result"
    }
   ],
   "source": [
    "mask_count_df = train_df.groupby('ImageId').agg(np.sum).reset_index()[['ImageId','pixel_percentile_id','hasMask']]\n",
    "mask_count_df['group'] = mask_count_df[\"hasMask\"].astype(str)+'_'+mask_count_df[\"pixel_percentile_id\"].astype(str)\n",
    "mask_count_df.sort_values('group', ascending=False, inplace=True)\n",
    "print(mask_count_df.shape)\n",
    "mask_count_df.head()"
   ]
  },
  {
   "cell_type": "code",
   "execution_count": 8,
   "metadata": {},
   "outputs": [
    {
     "name": "stdout",
     "output_type": "stream",
     "text": [
      "train_length 5198\n",
      "valid_length 348\n"
     ]
    }
   ],
   "source": [
    "ids = mask_count_df.index.values\n",
    "\n",
    "li = [\n",
    "    [train_index, test_index]\n",
    "    for train_index, test_index in StratifiedKFold(\n",
    "        n_splits=N_SPLITS, shuffle=True, random_state=SEED\n",
    "    ).split(ids, mask_count_df[\"group\"])\n",
    "]\n",
    "\n",
    "train_idx, val_idx = ids[li[FOLD][0]], ids[li[FOLD][1]]\n",
    "train_ids = np.array(mask_count_df['ImageId'].iloc[train_idx])\n",
    "val_ids = np.array(mask_count_df['ImageId'].iloc[val_idx])\n",
    "test_ids = sub_df[\"Image_Label\"].apply(lambda x: x.split(\"_\")[0]).drop_duplicates().values\n",
    "\n",
    "print(f\"train_length {len(train_idx)}\")\n",
    "print(f\"valid_length {len(val_idx)}\")"
   ]
  },
  {
   "cell_type": "markdown",
   "metadata": {},
   "source": [
    "## 1.3 Data Generator"
   ]
  },
  {
   "cell_type": "code",
   "execution_count": 9,
   "metadata": {},
   "outputs": [],
   "source": [
    "def get_training_augmentation():\n",
    "    train_transform = [\n",
    "        albu.OneOf([\n",
    "           albu.Resize(320, 480),\n",
    "           albu.RandomCrop(height=320, width=480),\n",
    "           ], p=1),\n",
    "        albu.Normalize(mean=(0.485, 0.456, 0.406), std=(0.229, 0.224, 0.225)),\n",
    "        albu.HorizontalFlip(p=0.5),\n",
    "        albu.VerticalFlip(p=0.1),\n",
    "        albu.Rotate(limit=20,p=0.3),\n",
    "        albu.GaussNoise(p=0.2),\n",
    "        albu.ShiftScaleRotate(scale_limit=0.5, rotate_limit=0, shift_limit=0.1, p=0.3, border_mode=0),\n",
    "        albu.GridDistortion(p=0.1),\n",
    "#         albu.OpticalDistortion(p=0.1, distort_limit=2, shift_limit=0.5),\n",
    "    ]\n",
    "    return albu.Compose(train_transform)\n",
    "\n",
    "\n",
    "def get_validation_augmentation():\n",
    "    \"\"\"Add paddings to make image shape divisible by 32\"\"\"\n",
    "    test_transform = [\n",
    "        albu.Resize(320, 480),\n",
    "        albu.Normalize(mean=(0.485, 0.456, 0.406), std=(0.229, 0.224, 0.225)),\n",
    "    ]\n",
    "    return albu.Compose(test_transform)\n",
    "\n",
    "def get_test_augmentation():\n",
    "    \"\"\"Add paddings to make image shape divisible by 32\"\"\"\n",
    "    test_transform = [\n",
    "        albu.Resize(320, 480),\n",
    "        albu.Normalize(mean=(0.485, 0.456, 0.406), std=(0.229, 0.224, 0.225)),\n",
    "    ]\n",
    "    return albu.Compose(test_transform)"
   ]
  },
  {
   "cell_type": "code",
   "execution_count": 10,
   "metadata": {},
   "outputs": [],
   "source": [
    "# Dataset class\n",
    "class CloudDataset(Dataset):\n",
    "    def __init__(\n",
    "        self,\n",
    "        df: pd.DataFrame = None,\n",
    "        datatype: str = \"train\",\n",
    "        img_ids: np.array = None,\n",
    "        transforms = transforms,\n",
    "    ):\n",
    "        self.df = df\n",
    "        self.datatype = datatype\n",
    "        if datatype != \"test\":\n",
    "            self.data_folder = TRAIN_PATH\n",
    "        else:\n",
    "            self.data_folder = TEST_PATH\n",
    "        self.img_ids = img_ids\n",
    "        self.transforms = transforms\n",
    "\n",
    "        \n",
    "    def __getitem__(self, idx):\n",
    "        \n",
    "        image_name = self.img_ids[idx]\n",
    "        \n",
    "        if self.datatype != \"test\":\n",
    "            y = self._find_target(image_name)\n",
    "            y = torch.Tensor(y)\n",
    "        \n",
    "        image_path = os.path.join(self.data_folder, image_name)\n",
    "        img = cv2.imread(image_path)\n",
    "        img = cv2.cvtColor(img, cv2.COLOR_BGR2RGB)\n",
    "        augmented = self.transforms(image=img)\n",
    "        img = np.transpose(augmented[\"image\"], [2, 0, 1])\n",
    "        \n",
    "        if self.datatype != \"test\":\n",
    "            return img, y\n",
    "        else:\n",
    "            return img\n",
    "    \n",
    "    def _find_target(self, image_name):\n",
    "        df_target = self.df[self.df['ImageId'] == image_name]\n",
    "        y = df_target['hasMask'].values\n",
    "        return y\n",
    "\n",
    "    def __len__(self):\n",
    "        return len(self.img_ids)"
   ]
  },
  {
   "cell_type": "markdown",
   "metadata": {},
   "source": [
    "## 1.4 Optimizer"
   ]
  },
  {
   "cell_type": "code",
   "execution_count": 11,
   "metadata": {},
   "outputs": [],
   "source": [
    "import math\n",
    "import torch\n",
    "from torch.optim.optimizer import Optimizer, required\n",
    "\n",
    "class RAdam(Optimizer):\n",
    "\n",
    "    def __init__(self, params, lr=1e-3, betas=(0.9, 0.999), eps=1e-8, weight_decay=0, degenerated_to_sgd=True):\n",
    "        if not 0.0 <= lr:\n",
    "            raise ValueError(\"Invalid learning rate: {}\".format(lr))\n",
    "        if not 0.0 <= eps:\n",
    "            raise ValueError(\"Invalid epsilon value: {}\".format(eps))\n",
    "        if not 0.0 <= betas[0] < 1.0:\n",
    "            raise ValueError(\"Invalid beta parameter at index 0: {}\".format(betas[0]))\n",
    "        if not 0.0 <= betas[1] < 1.0:\n",
    "            raise ValueError(\"Invalid beta parameter at index 1: {}\".format(betas[1]))\n",
    "        \n",
    "        self.degenerated_to_sgd = degenerated_to_sgd\n",
    "        if isinstance(params, (list, tuple)) and len(params) > 0 and isinstance(params[0], dict):\n",
    "            for param in params:\n",
    "                if 'betas' in param and (param['betas'][0] != betas[0] or param['betas'][1] != betas[1]):\n",
    "                    param['buffer'] = [[None, None, None] for _ in range(10)]\n",
    "        defaults = dict(lr=lr, betas=betas, eps=eps, weight_decay=weight_decay, buffer=[[None, None, None] for _ in range(10)])\n",
    "        super(RAdam, self).__init__(params, defaults)\n",
    "\n",
    "    def __setstate__(self, state):\n",
    "        super(RAdam, self).__setstate__(state)\n",
    "\n",
    "    def step(self, closure=None):\n",
    "\n",
    "        loss = None\n",
    "        if closure is not None:\n",
    "            loss = closure()\n",
    "\n",
    "        for group in self.param_groups:\n",
    "\n",
    "            for p in group['params']:\n",
    "                if p.grad is None:\n",
    "                    continue\n",
    "                grad = p.grad.data.float()\n",
    "                if grad.is_sparse:\n",
    "                    raise RuntimeError('RAdam does not support sparse gradients')\n",
    "\n",
    "                p_data_fp32 = p.data.float()\n",
    "\n",
    "                state = self.state[p]\n",
    "\n",
    "                if len(state) == 0:\n",
    "                    state['step'] = 0\n",
    "                    state['exp_avg'] = torch.zeros_like(p_data_fp32)\n",
    "                    state['exp_avg_sq'] = torch.zeros_like(p_data_fp32)\n",
    "                else:\n",
    "                    state['exp_avg'] = state['exp_avg'].type_as(p_data_fp32)\n",
    "                    state['exp_avg_sq'] = state['exp_avg_sq'].type_as(p_data_fp32)\n",
    "\n",
    "                exp_avg, exp_avg_sq = state['exp_avg'], state['exp_avg_sq']\n",
    "                beta1, beta2 = group['betas']\n",
    "\n",
    "                exp_avg_sq.mul_(beta2).addcmul_(1 - beta2, grad, grad)\n",
    "                exp_avg.mul_(beta1).add_(1 - beta1, grad)\n",
    "\n",
    "                state['step'] += 1\n",
    "                buffered = group['buffer'][int(state['step'] % 10)]\n",
    "                if state['step'] == buffered[0]:\n",
    "                    N_sma, step_size = buffered[1], buffered[2]\n",
    "                else:\n",
    "                    buffered[0] = state['step']\n",
    "                    beta2_t = beta2 ** state['step']\n",
    "                    N_sma_max = 2 / (1 - beta2) - 1\n",
    "                    N_sma = N_sma_max - 2 * state['step'] * beta2_t / (1 - beta2_t)\n",
    "                    buffered[1] = N_sma\n",
    "\n",
    "                    # more conservative since it's an approximated value\n",
    "                    if N_sma >= 5:\n",
    "                        step_size = math.sqrt((1 - beta2_t) * (N_sma - 4) / (N_sma_max - 4) * (N_sma - 2) / N_sma * N_sma_max / (N_sma_max - 2)) / (1 - beta1 ** state['step'])\n",
    "                    elif self.degenerated_to_sgd:\n",
    "                        step_size = 1.0 / (1 - beta1 ** state['step'])\n",
    "                    else:\n",
    "                        step_size = -1\n",
    "                    buffered[2] = step_size\n",
    "\n",
    "                # more conservative since it's an approximated value\n",
    "                if N_sma >= 5:\n",
    "                    if group['weight_decay'] != 0:\n",
    "                        p_data_fp32.add_(-group['weight_decay'] * group['lr'], p_data_fp32)\n",
    "                    denom = exp_avg_sq.sqrt().add_(group['eps'])\n",
    "                    p_data_fp32.addcdiv_(-step_size * group['lr'], exp_avg, denom)\n",
    "                    p.data.copy_(p_data_fp32)\n",
    "                elif step_size > 0:\n",
    "                    if group['weight_decay'] != 0:\n",
    "                        p_data_fp32.add_(-group['weight_decay'] * group['lr'], p_data_fp32)\n",
    "                    p_data_fp32.add_(-step_size * group['lr'], exp_avg)\n",
    "                    p.data.copy_(p_data_fp32)\n",
    "\n",
    "        return loss"
   ]
  },
  {
   "cell_type": "markdown",
   "metadata": {},
   "source": [
    "# 2. Modeling"
   ]
  },
  {
   "cell_type": "markdown",
   "metadata": {},
   "source": [
    "## 2.1 Model Definition"
   ]
  },
  {
   "cell_type": "code",
   "execution_count": 12,
   "metadata": {},
   "outputs": [],
   "source": [
    "num_workers = N_JOBS\n",
    "batch_size = 16\n",
    "\n",
    "train_dataset = CloudDataset(df=train_df,\n",
    "                             datatype=\"train\",\n",
    "                             img_ids=train_ids,\n",
    "                             transforms=get_training_augmentation(),)\n",
    "\n",
    "valid_dataset = CloudDataset(df=train_df,\n",
    "                             datatype=\"valid\",\n",
    "                             img_ids=val_ids,\n",
    "                             transforms=get_validation_augmentation(),)\n",
    "\n",
    "train_loader = DataLoader(train_dataset, batch_size=batch_size, shuffle=True, \n",
    "                          num_workers=num_workers)\n",
    "\n",
    "valid_loader = DataLoader(valid_dataset, batch_size=batch_size, shuffle=False, \n",
    "                          num_workers=num_workers)"
   ]
  },
  {
   "cell_type": "code",
   "execution_count": 13,
   "metadata": {},
   "outputs": [
    {
     "name": "stdout",
     "output_type": "stream",
     "text": [
      "Loaded pretrained weights for efficientnet-b0\n"
     ]
    }
   ],
   "source": [
    "from efficientnet_pytorch import EfficientNet\n",
    "import torch.nn.functional as F\n",
    "\n",
    "model = EfficientNet.from_pretrained('efficientnet-b0', num_classes=1)\n",
    "model._fc = nn.Sequential(\n",
    "    nn.Linear(in_features=1280, out_features=1, bias=True),\n",
    "    nn.Sigmoid()\n",
    ")\n",
    "if train_on_gpu:\n",
    "    model.to(DEVICE)\n",
    "    \n",
    "# model"
   ]
  },
  {
   "cell_type": "code",
   "execution_count": 14,
   "metadata": {},
   "outputs": [],
   "source": [
    "criterion = torch.nn.BCELoss()\n",
    "# optimizer = RAdam(model.parameters(), lr=0.04)\n",
    "optimizer = optim.SGD(model.parameters(), lr=1e-2, momentum=0.9, weight_decay=1e-4)\n",
    "scheduler = torch.optim.lr_scheduler.ReduceLROnPlateau(optimizer, mode='min', factor=0.5, patience=3, cooldown=2, verbose=True)\n"
   ]
  },
  {
   "cell_type": "markdown",
   "metadata": {},
   "source": [
    "## 2.2 Training Starts Here"
   ]
  },
  {
   "cell_type": "code",
   "execution_count": 15,
   "metadata": {
    "scrolled": true
   },
   "outputs": [
    {
     "name": "stderr",
     "output_type": "stream",
     "text": [
      "100%|██████████| 325/325 [00:39<00:00,  8.13it/s, train_loss=0.546, train_roc_auc=0.788]\n",
      "100%|██████████| 22/22 [00:01<00:00, 11.27it/s, valid_loss=0.555, roc_auc_score=0.878]\n",
      "  0%|          | 0/325 [00:00<?, ?it/s, train_loss=0, train_roc_auc=0]"
     ]
    },
    {
     "name": "stdout",
     "output_type": "stream",
     "text": [
      "Epoch: 1 || Training Loss: 0.629473  Training Auc Roc Score: 0.677707 || Validation Loss: 0.481707 Auc Roc Score: 0.874621\n",
      "Validation loss decreased (inf --> 0.481707).  Saving model ...\n"
     ]
    },
    {
     "name": "stderr",
     "output_type": "stream",
     "text": [
      "100%|██████████| 325/325 [00:38<00:00,  8.35it/s, train_loss=0.599, train_roc_auc=0.758]\n",
      "100%|██████████| 22/22 [00:01<00:00, 12.88it/s, valid_loss=0.598, roc_auc_score=0.886]\n",
      "  0%|          | 0/325 [00:00<?, ?it/s, train_loss=0, train_roc_auc=0]"
     ]
    },
    {
     "name": "stdout",
     "output_type": "stream",
     "text": [
      "Epoch: 2 || Training Loss: 0.509961  Training Auc Roc Score: 0.846287 || Validation Loss: 0.435591 Auc Roc Score: 0.889960\n",
      "Validation loss decreased (0.481707 --> 0.435591).  Saving model ...\n"
     ]
    },
    {
     "name": "stderr",
     "output_type": "stream",
     "text": [
      "100%|██████████| 325/325 [00:38<00:00,  8.37it/s, train_loss=0.612, train_roc_auc=0.823]\n",
      "100%|██████████| 22/22 [00:01<00:00, 12.72it/s, valid_loss=0.658, roc_auc_score=0.893]\n",
      "  0%|          | 0/325 [00:00<?, ?it/s, train_loss=0, train_roc_auc=0]"
     ]
    },
    {
     "name": "stdout",
     "output_type": "stream",
     "text": [
      "Epoch: 3 || Training Loss: 0.486100  Training Auc Roc Score: 0.863527 || Validation Loss: 0.426428 Auc Roc Score: 0.898985\n",
      "Validation loss decreased (0.435591 --> 0.426428).  Saving model ...\n"
     ]
    },
    {
     "name": "stderr",
     "output_type": "stream",
     "text": [
      "100%|██████████| 325/325 [00:38<00:00,  8.41it/s, train_loss=0.454, train_roc_auc=0.799]\n",
      "100%|██████████| 22/22 [00:01<00:00, 12.44it/s, valid_loss=0.591, roc_auc_score=0.889]\n",
      "  0%|          | 0/325 [00:00<?, ?it/s, train_loss=0, train_roc_auc=0]"
     ]
    },
    {
     "name": "stdout",
     "output_type": "stream",
     "text": [
      "Epoch: 4 || Training Loss: 0.476918  Training Auc Roc Score: 0.868651 || Validation Loss: 0.417244 Auc Roc Score: 0.897846\n",
      "Validation loss decreased (0.426428 --> 0.417244).  Saving model ...\n"
     ]
    },
    {
     "name": "stderr",
     "output_type": "stream",
     "text": [
      "100%|██████████| 325/325 [00:38<00:00,  8.34it/s, train_loss=0.396, train_roc_auc=0.859]\n",
      "100%|██████████| 22/22 [00:01<00:00, 12.72it/s, valid_loss=0.471, roc_auc_score=0.888]\n",
      "  0%|          | 0/325 [00:00<?, ?it/s, train_loss=0, train_roc_auc=0]"
     ]
    },
    {
     "name": "stdout",
     "output_type": "stream",
     "text": [
      "Epoch: 5 || Training Loss: 0.478293  Training Auc Roc Score: 0.872815 || Validation Loss: 0.437229 Auc Roc Score: 0.898594\n"
     ]
    },
    {
     "name": "stderr",
     "output_type": "stream",
     "text": [
      "100%|██████████| 325/325 [00:38<00:00,  8.41it/s, train_loss=1.01, train_roc_auc=0.803] \n",
      "100%|██████████| 22/22 [00:01<00:00, 12.60it/s, valid_loss=0.529, roc_auc_score=0.885]\n",
      "  0%|          | 0/325 [00:00<?, ?it/s, train_loss=0, train_roc_auc=0]"
     ]
    },
    {
     "name": "stdout",
     "output_type": "stream",
     "text": [
      "Epoch: 6 || Training Loss: 0.464635  Training Auc Roc Score: 0.877678 || Validation Loss: 0.407682 Auc Roc Score: 0.902974\n",
      "Validation loss decreased (0.417244 --> 0.407682).  Saving model ...\n"
     ]
    },
    {
     "name": "stderr",
     "output_type": "stream",
     "text": [
      "100%|██████████| 325/325 [00:38<00:00,  8.36it/s, train_loss=0.355, train_roc_auc=0.858]\n",
      "100%|██████████| 22/22 [00:01<00:00, 12.56it/s, valid_loss=0.544, roc_auc_score=0.893]\n",
      "  0%|          | 0/325 [00:00<?, ?it/s, train_loss=0, train_roc_auc=0]"
     ]
    },
    {
     "name": "stdout",
     "output_type": "stream",
     "text": [
      "Epoch: 7 || Training Loss: 0.467088  Training Auc Roc Score: 0.878118 || Validation Loss: 0.399418 Auc Roc Score: 0.907339\n",
      "Validation loss decreased (0.407682 --> 0.399418).  Saving model ...\n"
     ]
    },
    {
     "name": "stderr",
     "output_type": "stream",
     "text": [
      "100%|██████████| 325/325 [00:38<00:00,  8.38it/s, train_loss=0.203, train_roc_auc=0.889]\n",
      "100%|██████████| 22/22 [00:01<00:00, 12.82it/s, valid_loss=0.472, roc_auc_score=0.896]\n",
      "  0%|          | 0/325 [00:00<?, ?it/s, train_loss=0, train_roc_auc=0]"
     ]
    },
    {
     "name": "stdout",
     "output_type": "stream",
     "text": [
      "Epoch: 8 || Training Loss: 0.454830  Training Auc Roc Score: 0.886988 || Validation Loss: 0.404451 Auc Roc Score: 0.910737\n"
     ]
    },
    {
     "name": "stderr",
     "output_type": "stream",
     "text": [
      "100%|██████████| 325/325 [00:38<00:00,  8.38it/s, train_loss=0.276, train_roc_auc=0.849]\n",
      "100%|██████████| 22/22 [00:01<00:00, 12.95it/s, valid_loss=0.546, roc_auc_score=0.899]\n",
      "  0%|          | 0/325 [00:00<?, ?it/s, train_loss=0, train_roc_auc=0]"
     ]
    },
    {
     "name": "stdout",
     "output_type": "stream",
     "text": [
      "Epoch: 9 || Training Loss: 0.454855  Training Auc Roc Score: 0.889474 || Validation Loss: 0.397211 Auc Roc Score: 0.909444\n",
      "Validation loss decreased (0.399418 --> 0.397211).  Saving model ...\n"
     ]
    },
    {
     "name": "stderr",
     "output_type": "stream",
     "text": [
      "100%|██████████| 325/325 [00:38<00:00,  8.38it/s, train_loss=0.391, train_roc_auc=0.879]\n",
      "100%|██████████| 22/22 [00:01<00:00, 12.87it/s, valid_loss=0.421, roc_auc_score=0.902]\n",
      "  0%|          | 0/325 [00:00<?, ?it/s, train_loss=0, train_roc_auc=0]"
     ]
    },
    {
     "name": "stdout",
     "output_type": "stream",
     "text": [
      "Epoch: 10 || Training Loss: 0.454253  Training Auc Roc Score: 0.886143 || Validation Loss: 0.397805 Auc Roc Score: 0.913883\n"
     ]
    },
    {
     "name": "stderr",
     "output_type": "stream",
     "text": [
      "100%|██████████| 325/325 [00:38<00:00,  8.37it/s, train_loss=0.509, train_roc_auc=0.885]\n",
      "100%|██████████| 22/22 [00:01<00:00, 12.99it/s, valid_loss=0.545, roc_auc_score=0.904]\n",
      "  0%|          | 0/325 [00:00<?, ?it/s, train_loss=0, train_roc_auc=0]"
     ]
    },
    {
     "name": "stdout",
     "output_type": "stream",
     "text": [
      "Epoch: 11 || Training Loss: 0.451013  Training Auc Roc Score: 0.890477 || Validation Loss: 0.389743 Auc Roc Score: 0.916584\n",
      "Validation loss decreased (0.397211 --> 0.389743).  Saving model ...\n"
     ]
    },
    {
     "name": "stderr",
     "output_type": "stream",
     "text": [
      "100%|██████████| 325/325 [00:38<00:00,  8.39it/s, train_loss=0.346, train_roc_auc=0.929]\n",
      "100%|██████████| 22/22 [00:01<00:00, 12.64it/s, valid_loss=0.454, roc_auc_score=0.902]\n",
      "  0%|          | 0/325 [00:00<?, ?it/s, train_loss=0, train_roc_auc=0]"
     ]
    },
    {
     "name": "stdout",
     "output_type": "stream",
     "text": [
      "Epoch: 12 || Training Loss: 0.442962  Training Auc Roc Score: 0.898085 || Validation Loss: 0.387151 Auc Roc Score: 0.919493\n",
      "Validation loss decreased (0.389743 --> 0.387151).  Saving model ...\n"
     ]
    },
    {
     "name": "stderr",
     "output_type": "stream",
     "text": [
      "100%|██████████| 325/325 [00:38<00:00,  8.39it/s, train_loss=0.26, train_roc_auc=0.826] \n",
      "100%|██████████| 22/22 [00:01<00:00, 12.63it/s, valid_loss=0.419, roc_auc_score=0.902]\n",
      "  0%|          | 0/325 [00:00<?, ?it/s, train_loss=0, train_roc_auc=0]"
     ]
    },
    {
     "name": "stdout",
     "output_type": "stream",
     "text": [
      "Epoch: 13 || Training Loss: 0.432413  Training Auc Roc Score: 0.905418 || Validation Loss: 0.402165 Auc Roc Score: 0.916757\n"
     ]
    },
    {
     "name": "stderr",
     "output_type": "stream",
     "text": [
      "100%|██████████| 325/325 [00:38<00:00,  8.38it/s, train_loss=0.279, train_roc_auc=0.92] \n",
      "100%|██████████| 22/22 [00:01<00:00, 12.96it/s, valid_loss=0.436, roc_auc_score=0.897]\n",
      "  0%|          | 0/325 [00:00<?, ?it/s, train_loss=0, train_roc_auc=0]"
     ]
    },
    {
     "name": "stdout",
     "output_type": "stream",
     "text": [
      "Epoch: 14 || Training Loss: 0.432627  Training Auc Roc Score: 0.903319 || Validation Loss: 0.402059 Auc Roc Score: 0.911424\n"
     ]
    },
    {
     "name": "stderr",
     "output_type": "stream",
     "text": [
      "100%|██████████| 325/325 [00:38<00:00,  8.37it/s, train_loss=0.421, train_roc_auc=0.857]\n",
      "100%|██████████| 22/22 [00:01<00:00, 12.47it/s, valid_loss=0.5, roc_auc_score=0.907]  \n",
      "  0%|          | 0/325 [00:00<?, ?it/s, train_loss=0, train_roc_auc=0]"
     ]
    },
    {
     "name": "stdout",
     "output_type": "stream",
     "text": [
      "Epoch: 15 || Training Loss: 0.430134  Training Auc Roc Score: 0.903702 || Validation Loss: 0.388617 Auc Roc Score: 0.915984\n"
     ]
    },
    {
     "name": "stderr",
     "output_type": "stream",
     "text": [
      "100%|██████████| 325/325 [00:38<00:00,  8.37it/s, train_loss=0.19, train_roc_auc=0.892] \n",
      "100%|██████████| 22/22 [00:01<00:00, 12.89it/s, valid_loss=0.558, roc_auc_score=0.902]\n",
      "  0%|          | 0/325 [00:00<?, ?it/s, train_loss=0, train_roc_auc=0]"
     ]
    },
    {
     "name": "stdout",
     "output_type": "stream",
     "text": [
      "Epoch: 16 || Training Loss: 0.418620  Training Auc Roc Score: 0.914013 || Validation Loss: 0.396684 Auc Roc Score: 0.913077\n",
      "Epoch    15: reducing learning rate of group 0 to 5.0000e-03.\n"
     ]
    },
    {
     "name": "stderr",
     "output_type": "stream",
     "text": [
      "100%|██████████| 325/325 [00:38<00:00,  8.38it/s, train_loss=0.206, train_roc_auc=0.889]\n",
      "100%|██████████| 22/22 [00:01<00:00, 12.71it/s, valid_loss=0.453, roc_auc_score=0.903]\n",
      "  0%|          | 0/325 [00:00<?, ?it/s, train_loss=0, train_roc_auc=0]"
     ]
    },
    {
     "name": "stdout",
     "output_type": "stream",
     "text": [
      "Epoch: 17 || Training Loss: 0.427751  Training Auc Roc Score: 0.905287 || Validation Loss: 0.388024 Auc Roc Score: 0.918739\n"
     ]
    },
    {
     "name": "stderr",
     "output_type": "stream",
     "text": [
      "100%|██████████| 325/325 [00:38<00:00,  8.39it/s, train_loss=0.565, train_roc_auc=0.847]\n",
      "100%|██████████| 22/22 [00:01<00:00, 12.25it/s, valid_loss=0.418, roc_auc_score=0.905]\n",
      "  0%|          | 0/325 [00:00<?, ?it/s, train_loss=0, train_roc_auc=0]"
     ]
    },
    {
     "name": "stdout",
     "output_type": "stream",
     "text": [
      "Epoch: 18 || Training Loss: 0.412129  Training Auc Roc Score: 0.913765 || Validation Loss: 0.396276 Auc Roc Score: 0.920079\n"
     ]
    },
    {
     "name": "stderr",
     "output_type": "stream",
     "text": [
      "100%|██████████| 325/325 [00:38<00:00,  8.42it/s, train_loss=0.637, train_roc_auc=0.823] \n",
      "100%|██████████| 22/22 [00:01<00:00, 12.43it/s, valid_loss=0.447, roc_auc_score=0.903]\n",
      "  0%|          | 0/325 [00:00<?, ?it/s, train_loss=0, train_roc_auc=0]"
     ]
    },
    {
     "name": "stdout",
     "output_type": "stream",
     "text": [
      "Epoch: 19 || Training Loss: 0.420991  Training Auc Roc Score: 0.911607 || Validation Loss: 0.388141 Auc Roc Score: 0.917526\n"
     ]
    },
    {
     "name": "stderr",
     "output_type": "stream",
     "text": [
      "100%|██████████| 325/325 [00:38<00:00,  8.40it/s, train_loss=0.286, train_roc_auc=0.855]\n",
      "100%|██████████| 22/22 [00:01<00:00, 12.79it/s, valid_loss=0.423, roc_auc_score=0.9]  \n",
      "  0%|          | 0/325 [00:00<?, ?it/s, train_loss=0, train_roc_auc=0]"
     ]
    },
    {
     "name": "stdout",
     "output_type": "stream",
     "text": [
      "Epoch: 20 || Training Loss: 0.414167  Training Auc Roc Score: 0.914271 || Validation Loss: 0.393901 Auc Roc Score: 0.915679\n"
     ]
    },
    {
     "name": "stderr",
     "output_type": "stream",
     "text": [
      "100%|██████████| 325/325 [00:38<00:00,  8.38it/s, train_loss=0.345, train_roc_auc=0.882]\n",
      "100%|██████████| 22/22 [00:01<00:00, 12.39it/s, valid_loss=0.503, roc_auc_score=0.903]\n",
      "  0%|          | 0/325 [00:00<?, ?it/s, train_loss=0, train_roc_auc=0]"
     ]
    },
    {
     "name": "stdout",
     "output_type": "stream",
     "text": [
      "Epoch: 21 || Training Loss: 0.411417  Training Auc Roc Score: 0.915276 || Validation Loss: 0.385366 Auc Roc Score: 0.919298\n",
      "Validation loss decreased (0.387151 --> 0.385366).  Saving model ...\n"
     ]
    },
    {
     "name": "stderr",
     "output_type": "stream",
     "text": [
      "100%|██████████| 325/325 [00:38<00:00,  8.40it/s, train_loss=0.552, train_roc_auc=0.898]\n",
      "100%|██████████| 22/22 [00:01<00:00, 12.76it/s, valid_loss=0.491, roc_auc_score=0.904]\n",
      "  0%|          | 0/325 [00:00<?, ?it/s, train_loss=0, train_roc_auc=0]"
     ]
    },
    {
     "name": "stdout",
     "output_type": "stream",
     "text": [
      "Epoch: 22 || Training Loss: 0.413052  Training Auc Roc Score: 0.917467 || Validation Loss: 0.378407 Auc Roc Score: 0.920904\n",
      "Validation loss decreased (0.385366 --> 0.378407).  Saving model ...\n"
     ]
    },
    {
     "name": "stderr",
     "output_type": "stream",
     "text": [
      "100%|██████████| 325/325 [00:38<00:00,  8.39it/s, train_loss=0.437, train_roc_auc=0.914]\n",
      "100%|██████████| 22/22 [00:01<00:00, 12.20it/s, valid_loss=0.48, roc_auc_score=0.909] \n",
      "  0%|          | 0/325 [00:00<?, ?it/s, train_loss=0, train_roc_auc=0]"
     ]
    },
    {
     "name": "stdout",
     "output_type": "stream",
     "text": [
      "Epoch: 23 || Training Loss: 0.407056  Training Auc Roc Score: 0.922354 || Validation Loss: 0.384203 Auc Roc Score: 0.917741\n"
     ]
    },
    {
     "name": "stderr",
     "output_type": "stream",
     "text": [
      "100%|██████████| 325/325 [00:38<00:00,  8.38it/s, train_loss=0.365, train_roc_auc=0.879]\n",
      "100%|██████████| 22/22 [00:01<00:00, 12.59it/s, valid_loss=0.462, roc_auc_score=0.91] \n",
      "  0%|          | 0/325 [00:00<?, ?it/s, train_loss=0, train_roc_auc=0]"
     ]
    },
    {
     "name": "stdout",
     "output_type": "stream",
     "text": [
      "Epoch: 24 || Training Loss: 0.403551  Training Auc Roc Score: 0.923071 || Validation Loss: 0.380654 Auc Roc Score: 0.921839\n"
     ]
    },
    {
     "name": "stderr",
     "output_type": "stream",
     "text": [
      "100%|██████████| 325/325 [00:38<00:00,  8.37it/s, train_loss=0.475, train_roc_auc=0.864]\n",
      "100%|██████████| 22/22 [00:01<00:00, 12.60it/s, valid_loss=0.423, roc_auc_score=0.906]\n",
      "  0%|          | 0/325 [00:00<?, ?it/s, train_loss=0, train_roc_auc=0]"
     ]
    },
    {
     "name": "stdout",
     "output_type": "stream",
     "text": [
      "Epoch: 25 || Training Loss: 0.405639  Training Auc Roc Score: 0.920500 || Validation Loss: 0.382147 Auc Roc Score: 0.921014\n"
     ]
    },
    {
     "name": "stderr",
     "output_type": "stream",
     "text": [
      "100%|██████████| 325/325 [00:38<00:00,  8.37it/s, train_loss=0.148, train_roc_auc=0.878]\n",
      "100%|██████████| 22/22 [00:01<00:00, 12.89it/s, valid_loss=0.42, roc_auc_score=0.905] \n",
      "  0%|          | 0/325 [00:00<?, ?it/s, train_loss=0, train_roc_auc=0]"
     ]
    },
    {
     "name": "stdout",
     "output_type": "stream",
     "text": [
      "Epoch: 26 || Training Loss: 0.406185  Training Auc Roc Score: 0.922579 || Validation Loss: 0.386913 Auc Roc Score: 0.919281\n",
      "Epoch    25: reducing learning rate of group 0 to 2.5000e-03.\n"
     ]
    },
    {
     "name": "stderr",
     "output_type": "stream",
     "text": [
      "100%|██████████| 325/325 [00:38<00:00,  8.38it/s, train_loss=0.464, train_roc_auc=0.93] \n",
      "100%|██████████| 22/22 [00:01<00:00, 13.04it/s, valid_loss=0.407, roc_auc_score=0.903]\n",
      "  0%|          | 0/325 [00:00<?, ?it/s, train_loss=0, train_roc_auc=0]"
     ]
    },
    {
     "name": "stdout",
     "output_type": "stream",
     "text": [
      "Epoch: 27 || Training Loss: 0.395751  Training Auc Roc Score: 0.927048 || Validation Loss: 0.387376 Auc Roc Score: 0.917888\n"
     ]
    },
    {
     "name": "stderr",
     "output_type": "stream",
     "text": [
      "100%|██████████| 325/325 [00:38<00:00,  8.37it/s, train_loss=0.452, train_roc_auc=0.905]\n",
      "100%|██████████| 22/22 [00:01<00:00, 12.53it/s, valid_loss=0.437, roc_auc_score=0.905]\n",
      "  0%|          | 0/325 [00:00<?, ?it/s, train_loss=0, train_roc_auc=0]"
     ]
    },
    {
     "name": "stdout",
     "output_type": "stream",
     "text": [
      "Epoch: 28 || Training Loss: 0.391856  Training Auc Roc Score: 0.929945 || Validation Loss: 0.384183 Auc Roc Score: 0.919277\n"
     ]
    },
    {
     "name": "stderr",
     "output_type": "stream",
     "text": [
      "100%|██████████| 325/325 [00:38<00:00,  8.41it/s, train_loss=0.295, train_roc_auc=0.906]\n",
      "100%|██████████| 22/22 [00:01<00:00, 13.01it/s, valid_loss=0.452, roc_auc_score=0.906]\n",
      "  0%|          | 0/325 [00:00<?, ?it/s, train_loss=0, train_roc_auc=0]"
     ]
    },
    {
     "name": "stdout",
     "output_type": "stream",
     "text": [
      "Epoch: 29 || Training Loss: 0.387536  Training Auc Roc Score: 0.931457 || Validation Loss: 0.382371 Auc Roc Score: 0.920952\n"
     ]
    },
    {
     "name": "stderr",
     "output_type": "stream",
     "text": [
      "100%|██████████| 325/325 [00:38<00:00,  8.38it/s, train_loss=0.396, train_roc_auc=0.883]\n",
      "100%|██████████| 22/22 [00:01<00:00, 13.41it/s, valid_loss=0.408, roc_auc_score=0.904] "
     ]
    },
    {
     "name": "stdout",
     "output_type": "stream",
     "text": [
      "Epoch: 30 || Training Loss: 0.388413  Training Auc Roc Score: 0.927909 || Validation Loss: 0.385602 Auc Roc Score: 0.919990\n"
     ]
    },
    {
     "name": "stderr",
     "output_type": "stream",
     "text": [
      "\n"
     ]
    }
   ],
   "source": [
    "# number of epochs to train the model\n",
    "n_epochs = 30\n",
    "\n",
    "train_loss_list = []\n",
    "train_roc_auc_list = []\n",
    "valid_loss_list = []\n",
    "valid_roc_auc_list = []\n",
    "\n",
    "lr_rate_list = []\n",
    "valid_loss_min = np.Inf # track change in validation loss\n",
    "batch_multiplier = 8\n",
    "model.to(DEVICE)\n",
    "\n",
    "torch.backends.cudnn.benchmark = True\n",
    "\n",
    "for epoch in range(1, n_epochs+1):\n",
    "\n",
    "    # keep track of training and validation loss\n",
    "    train_loss = 0.0\n",
    "    valid_loss = 0.0\n",
    "    train_roc_auc = 0.0\n",
    "    valid_roc_auc = 0.0\n",
    "    count = 0  #multiple minibatch\n",
    "    \n",
    "    ###################\n",
    "    # train the model #\n",
    "    ###################\n",
    "    model.train()\n",
    "    bar = tqdm(train_loader, postfix={\"train_loss\":0.0,\"train_roc_auc\":0.0})\n",
    "    for data, target in bar:\n",
    "        # move tensors to GPU if CUDA is available\n",
    "        \n",
    "        if train_on_gpu:\n",
    "            data, target = data.cuda(), target.cuda()\n",
    "        \n",
    "        # clear the gradients of all optimized variables\n",
    "        if count == 0:\n",
    "            optimizer.step()\n",
    "            optimizer.zero_grad()\n",
    "            count = batch_multiplier\n",
    "        \n",
    "        # forward pass: compute predicted outputs by passing inputs to the model   \n",
    "        output = model(data)\n",
    "        \n",
    "        # calculate the batch loss\n",
    "        loss = criterion(output, target) / batch_multiplier\n",
    "        loss.backward()\n",
    "        \n",
    "        # perform a single optimization step (parameter update)\n",
    "        #optimizer.step()\n",
    "        \n",
    "        if count == batch_multiplier:\n",
    "            try:\n",
    "                roc_auc_    = roc_auc_score(targets, outputs)\n",
    "                train_roc_auc += roc_auc_ * data.size(0) * batch_multiplier\n",
    "            except:\n",
    "                pass\n",
    "            targets = target.to(\"cpu\").data.numpy()\n",
    "            outputs = output.to(\"cpu\").data.numpy()\n",
    "        \n",
    "        targets = np.vstack([targets, target.to(\"cpu\").data.numpy()])\n",
    "        outputs = np.vstack([outputs, output.to(\"cpu\").data.numpy()])\n",
    "        # update training loss\n",
    "        train_loss += loss.item() * data.size(0) * batch_multiplier\n",
    "        \n",
    "        count -= 1  #multiple minibatch\n",
    "\n",
    "        try:\n",
    "            bar.set_postfix(ordered_dict={\"train_loss\":loss.item() * batch_multiplier, \"train_roc_auc\":roc_auc_})\n",
    "        except:\n",
    "            pass\n",
    "        \n",
    "    roc_auc_    = roc_auc_score(targets, outputs)\n",
    "    train_roc_auc += roc_auc_ * data.size(0) * batch_multiplier\n",
    "        \n",
    "    ######################\n",
    "    # validate the model #\n",
    "    ######################\n",
    "    model.eval()\n",
    "    \n",
    "    del data, target, targets, outputs\n",
    "\n",
    "    with torch.no_grad():\n",
    "\n",
    "        bar = tqdm(valid_loader, postfix={\"valid_loss\":0.0, \"roc_auc_score\":0.0})\n",
    "        count = batch_multiplier\n",
    "        \n",
    "        for data, target in bar:\n",
    "            \n",
    "            # move tensors to GPU if CUDA is available\n",
    "            if train_on_gpu:\n",
    "                data, target = data.cuda(), target.cuda()\n",
    "                \n",
    "            if count == 0:\n",
    "                count = batch_multiplier\n",
    "                \n",
    "            # forward pass: compute predicted outputs by passing inputs to the model\n",
    "            output = model(data)\n",
    "            \n",
    "            # calculate the batch loss\n",
    "            loss = criterion(output, target)\n",
    "            valid_loss += loss.item() * data.size(0)\n",
    "            \n",
    "            if count == batch_multiplier:\n",
    "                try:\n",
    "                    roc_auc_    = roc_auc_score(targets, outputs)\n",
    "                    valid_roc_auc += roc_auc_ * data.size(0) * batch_multiplier\n",
    "                except:\n",
    "                    pass\n",
    "                targets = target.to(\"cpu\").data.numpy()\n",
    "                outputs = output.to(\"cpu\").data.numpy()\n",
    "                \n",
    "            targets = np.vstack([targets, target.to(\"cpu\").data.numpy()])\n",
    "            outputs = np.vstack([outputs, output.to(\"cpu\").data.numpy()])\n",
    "            \n",
    "            try:\n",
    "                bar.set_postfix(ordered_dict={\"valid_loss\":loss.item(), \"roc_auc_score\":roc_auc_})\n",
    "            except:\n",
    "                pass\n",
    "            \n",
    "            count -= 1\n",
    "            \n",
    "        roc_auc_    = roc_auc_score(targets, outputs)\n",
    "        valid_roc_auc += roc_auc_ * data.size(0) * batch_multiplier\n",
    "    \n",
    "    # calculate average losses\n",
    "    train_loss = train_loss/len(train_loader.dataset)\n",
    "    train_roc_auc = train_roc_auc/len(train_loader.dataset)\n",
    "    valid_loss = valid_loss/len(valid_loader.dataset)\n",
    "    valid_roc_auc = valid_roc_auc/len(valid_loader.dataset)\n",
    "    \n",
    "    train_loss_list.append(train_loss)\n",
    "    train_roc_auc_list.append(train_roc_auc)\n",
    "    valid_loss_list.append(valid_loss)\n",
    "    valid_roc_auc_list.append(valid_roc_auc)\n",
    "\n",
    "    lr_rate_list.append([param_group['lr'] for param_group in optimizer.param_groups])\n",
    "    \n",
    "    # print training/validation statistics \n",
    "    print('Epoch: {} || Training Loss: {:.6f}  Training Auc Roc Score: {:.6f} || Validation Loss: {:.6f} Auc Roc Score: {:.6f}'.format(\n",
    "          epoch, train_loss, train_roc_auc, valid_loss, valid_roc_auc))\n",
    "    \n",
    "    # save model if validation loss has decreased\n",
    "    if valid_loss <= valid_loss_min:\n",
    "        print('Validation loss decreased ({:.6f} --> {:.6f}).  Saving model ...'.format(\n",
    "        valid_loss_min,\n",
    "        valid_loss))\n",
    "        torch.save(model.state_dict(), f\"{WEIGHT_PATH}/model_{VERSION}_best.pth\")\n",
    "        valid_loss_min = valid_loss\n",
    "    \n",
    "    scheduler.step(valid_loss)\n",
    "    "
   ]
  },
  {
   "cell_type": "markdown",
   "metadata": {},
   "source": [
    "## 2.3 Plot History"
   ]
  },
  {
   "cell_type": "code",
   "execution_count": 16,
   "metadata": {},
   "outputs": [
    {
     "data": {
      "image/png": "[encoded data removed]",
      "text/plain": [
       "<Figure size 720x720 with 1 Axes>"
      ]
     },
     "metadata": {},
     "output_type": "display_data"
    }
   ],
   "source": [
    "plt.figure(figsize=(10,10))\n",
    "plt.plot([i[0] for i in lr_rate_list])\n",
    "plt.ylabel('learing rate during training', fontsize=22)\n",
    "plt.show()"
   ]
  },
  {
   "cell_type": "code",
   "execution_count": 17,
   "metadata": {},
   "outputs": [
    {
     "data": {
      "image/png": "[encoded data removed]",
      "text/plain": [
       "<Figure size 720x720 with 1 Axes>"
      ]
     },
     "metadata": {},
     "output_type": "display_data"
    }
   ],
   "source": [
    "plt.figure(figsize=(10,10))\n",
    "plt.plot(train_loss_list,  marker='o', label=\"Training Loss\")\n",
    "plt.plot(valid_loss_list,  marker='o', label=\"Validation Loss\")\n",
    "plt.ylabel('loss', fontsize=22)\n",
    "plt.legend()\n",
    "plt.show()"
   ]
  },
  {
   "cell_type": "code",
   "execution_count": 18,
   "metadata": {},
   "outputs": [
    {
     "data": {
      "image/png": "[encoded data removed]",
      "text/plain": [
       "<Figure size 720x720 with 1 Axes>"
      ]
     },
     "metadata": {},
     "output_type": "display_data"
    }
   ],
   "source": [
    "plt.figure(figsize=(10,10))\n",
    "plt.plot(valid_roc_auc_list)\n",
    "plt.ylabel('Dice score')\n",
    "plt.show()"
   ]
  },
  {
   "cell_type": "markdown",
   "metadata": {},
   "source": [
    "# 3. Predict"
   ]
  },
  {
   "cell_type": "code",
   "execution_count": 19,
   "metadata": {},
   "outputs": [
    {
     "name": "stdout",
     "output_type": "stream",
     "text": [
      "Prediction Starts here\n"
     ]
    }
   ],
   "source": [
    "model.load_state_dict(torch.load(f\"{WEIGHT_PATH}/model_{VERSION}_best.pth\"))\n",
    "model.eval()\n",
    "print('Prediction Starts here')"
   ]
  },
  {
   "cell_type": "markdown",
   "metadata": {},
   "source": [
    "# 4. Pseudo Labelling for Test Data"
   ]
  },
  {
   "cell_type": "code",
   "execution_count": 20,
   "metadata": {},
   "outputs": [],
   "source": [
    "batch_size = batch_size\n",
    "test_dataset = CloudDataset(df=sub_df,\n",
    "                            datatype='test', \n",
    "                            img_ids=test_ids,\n",
    "                            transforms=get_test_augmentation())\n",
    "\n",
    "test_loader = DataLoader(test_dataset, batch_size=batch_size,\n",
    "                         shuffle=False, num_workers=N_JOBS)"
   ]
  },
  {
   "cell_type": "code",
   "execution_count": 21,
   "metadata": {},
   "outputs": [
    {
     "name": "stderr",
     "output_type": "stream",
     "text": [
      "100%|██████████| 232/232 [00:10<00:00, 23.17it/s]\n"
     ]
    }
   ],
   "source": [
    "y_preds = []\n",
    "with torch.no_grad():\n",
    "\n",
    "    bar = tqdm(test_loader)\n",
    "\n",
    "    for data in bar:\n",
    "        \n",
    "        # move tensors to GPU if CUDA is available\n",
    "        if train_on_gpu:\n",
    "            data, target = data.cuda(), target.cuda()\n",
    "            \n",
    "        # forward pass: compute predicted outputs by passing inputs to the model\n",
    "        output = model(data)\n",
    "        y_preds.append(output.to(\"cpu\").data.numpy())\n",
    "        \n",
    "y_pred = np.vstack(y_preds).flatten()"
   ]
  },
  {
   "cell_type": "code",
   "execution_count": 22,
   "metadata": {},
   "outputs": [
    {
     "data": {
      "text/html": [
       "<div>\n",
       "<style scoped>\n",
       "    .dataframe tbody tr th:only-of-type {\n",
       "        vertical-align: middle;\n",
       "    }\n",
       "\n",
       "    .dataframe tbody tr th {\n",
       "        vertical-align: top;\n",
       "    }\n",
       "\n",
       "    .dataframe thead th {\n",
       "        text-align: right;\n",
       "    }\n",
       "</style>\n",
       "<table border=\"1\" class=\"dataframe\">\n",
       "  <thead>\n",
       "    <tr style=\"text-align: right;\">\n",
       "      <th></th>\n",
       "      <th>Image_Label</th>\n",
       "      <th>EncodedPixels</th>\n",
       "      <th>ImageId</th>\n",
       "      <th>Class</th>\n",
       "      <th>PseudoFlower</th>\n",
       "      <th>PseudoLabel</th>\n",
       "    </tr>\n",
       "  </thead>\n",
       "  <tbody>\n",
       "    <tr>\n",
       "      <th>0</th>\n",
       "      <td>002f507.jpg_Flower</td>\n",
       "      <td>1 1</td>\n",
       "      <td>002f507.jpg</td>\n",
       "      <td>Flower</td>\n",
       "      <td>0.051959</td>\n",
       "      <td>0.0</td>\n",
       "    </tr>\n",
       "    <tr>\n",
       "      <th>1</th>\n",
       "      <td>0035ae9.jpg_Flower</td>\n",
       "      <td>1 1</td>\n",
       "      <td>0035ae9.jpg</td>\n",
       "      <td>Flower</td>\n",
       "      <td>0.046298</td>\n",
       "      <td>0.0</td>\n",
       "    </tr>\n",
       "    <tr>\n",
       "      <th>2</th>\n",
       "      <td>0038327.jpg_Flower</td>\n",
       "      <td>1 1</td>\n",
       "      <td>0038327.jpg</td>\n",
       "      <td>Flower</td>\n",
       "      <td>0.597192</td>\n",
       "      <td>NaN</td>\n",
       "    </tr>\n",
       "    <tr>\n",
       "      <th>3</th>\n",
       "      <td>004f759.jpg_Flower</td>\n",
       "      <td>1 1</td>\n",
       "      <td>004f759.jpg</td>\n",
       "      <td>Flower</td>\n",
       "      <td>0.919148</td>\n",
       "      <td>1.0</td>\n",
       "    </tr>\n",
       "    <tr>\n",
       "      <th>4</th>\n",
       "      <td>005ba08.jpg_Flower</td>\n",
       "      <td>1 1</td>\n",
       "      <td>005ba08.jpg</td>\n",
       "      <td>Flower</td>\n",
       "      <td>0.061092</td>\n",
       "      <td>0.0</td>\n",
       "    </tr>\n",
       "  </tbody>\n",
       "</table>\n",
       "</div>"
      ],
      "text/plain": [
       "          Image_Label EncodedPixels      ImageId   Class  PseudoFlower  \\\n",
       "0  002f507.jpg_Flower           1 1  002f507.jpg  Flower      0.051959   \n",
       "1  0035ae9.jpg_Flower           1 1  0035ae9.jpg  Flower      0.046298   \n",
       "2  0038327.jpg_Flower           1 1  0038327.jpg  Flower      0.597192   \n",
       "3  004f759.jpg_Flower           1 1  004f759.jpg  Flower      0.919148   \n",
       "4  005ba08.jpg_Flower           1 1  005ba08.jpg  Flower      0.061092   \n",
       "\n",
       "   PseudoLabel  \n",
       "0          0.0  \n",
       "1          0.0  \n",
       "2          NaN  \n",
       "3          1.0  \n",
       "4          0.0  "
      ]
     },
     "execution_count": 22,
     "metadata": {},
     "output_type": "execute_result"
    }
   ],
   "source": [
    "def pseudo_labelling(x):\n",
    "    if x < 0.1:\n",
    "        return 0\n",
    "    elif x > 0.9:\n",
    "        return 1\n",
    "\n",
    "sub_df[f'Pseudo{CLOUD_TYPE}'] = y_pred\n",
    "sub_df['PseudoLabel'] = sub_df[f'Pseudo{CLOUD_TYPE}'].apply(pseudo_labelling)\n",
    "sub_df.head()"
   ]
  },
  {
   "cell_type": "code",
   "execution_count": 23,
   "metadata": {},
   "outputs": [
    {
     "name": "stdout",
     "output_type": "stream",
     "text": [
      "####### Number of Test Data Decreased from 3698 to 1724\n",
      "<class 'pandas.core.frame.DataFrame'>\n",
      "RangeIndex: 7520 entries, 0 to 7519\n",
      "Data columns (total 3 columns):\n",
      "path       7520 non-null object\n",
      "hasMask    7520 non-null int64\n",
      "from       7520 non-null object\n",
      "dtypes: int64(1), object(2)\n",
      "memory usage: 176.3+ KB\n"
     ]
    },
    {
     "data": {
      "text/html": [
       "<div>\n",
       "<style scoped>\n",
       "    .dataframe tbody tr th:only-of-type {\n",
       "        vertical-align: middle;\n",
       "    }\n",
       "\n",
       "    .dataframe tbody tr th {\n",
       "        vertical-align: top;\n",
       "    }\n",
       "\n",
       "    .dataframe thead th {\n",
       "        text-align: right;\n",
       "    }\n",
       "</style>\n",
       "<table border=\"1\" class=\"dataframe\">\n",
       "  <thead>\n",
       "    <tr style=\"text-align: right;\">\n",
       "      <th></th>\n",
       "      <th>path</th>\n",
       "      <th>hasMask</th>\n",
       "      <th>from</th>\n",
       "    </tr>\n",
       "  </thead>\n",
       "  <tbody>\n",
       "    <tr>\n",
       "      <th>0</th>\n",
       "      <td>../input/resized_images/train_images_525/00111...</td>\n",
       "      <td>1</td>\n",
       "      <td>train</td>\n",
       "    </tr>\n",
       "    <tr>\n",
       "      <th>1</th>\n",
       "      <td>../input/resized_images/train_images_525/002be...</td>\n",
       "      <td>1</td>\n",
       "      <td>train</td>\n",
       "    </tr>\n",
       "    <tr>\n",
       "      <th>2</th>\n",
       "      <td>../input/resized_images/train_images_525/0031a...</td>\n",
       "      <td>1</td>\n",
       "      <td>train</td>\n",
       "    </tr>\n",
       "    <tr>\n",
       "      <th>3</th>\n",
       "      <td>../input/resized_images/train_images_525/00352...</td>\n",
       "      <td>1</td>\n",
       "      <td>train</td>\n",
       "    </tr>\n",
       "    <tr>\n",
       "      <th>4</th>\n",
       "      <td>../input/resized_images/train_images_525/00399...</td>\n",
       "      <td>0</td>\n",
       "      <td>train</td>\n",
       "    </tr>\n",
       "  </tbody>\n",
       "</table>\n",
       "</div>"
      ],
      "text/plain": [
       "                                                path  hasMask   from\n",
       "0  ../input/resized_images/train_images_525/00111...        1  train\n",
       "1  ../input/resized_images/train_images_525/002be...        1  train\n",
       "2  ../input/resized_images/train_images_525/0031a...        1  train\n",
       "3  ../input/resized_images/train_images_525/00352...        1  train\n",
       "4  ../input/resized_images/train_images_525/00399...        0  train"
      ]
     },
     "execution_count": 23,
     "metadata": {},
     "output_type": "execute_result"
    }
   ],
   "source": [
    "pseudo_df = train_df.copy()\n",
    "pseudo_df['path'] = pseudo_df['ImageId'].apply(lambda x: TRAIN_PATH+'/'+x)\n",
    "pseudo_df = pseudo_df[['path', 'hasMask']]\n",
    "pseudo_df['from'] = 'train'\n",
    "pseudo_df_test = sub_df.copy()\n",
    "pseudo_df_test['path'] = pseudo_df_test['ImageId'].apply(lambda x: TEST_PATH+'/'+x)\n",
    "pseudo_df_test_isna = pseudo_df_test[pseudo_df_test['PseudoLabel'].isna()].reset_index(drop=True)\n",
    "pseudo_df_test = pseudo_df_test[pseudo_df_test['PseudoLabel'].notna()].reset_index(drop=True)\n",
    "pseudo_df_test['PseudoLabel'] = pseudo_df_test['PseudoLabel'].astype(int)\n",
    "pseudo_df_test = pseudo_df_test[['path', 'PseudoLabel']].rename(columns={'PseudoLabel':'hasMask'})\n",
    "pseudo_df_test['from'] = 'test'\n",
    "pseudo_df = pd.concat([pseudo_df, pseudo_df_test]).reset_index(drop=True)\n",
    "print('####### Number of Test Data Decreased from {} to {}'.format(sub_df.shape[0], pseudo_df_test_isna.shape[0]))\n",
    "pseudo_df.info()\n",
    "pseudo_df.head(5)\n"
   ]
  },
  {
   "cell_type": "code",
   "execution_count": 24,
   "metadata": {},
   "outputs": [],
   "source": [
    "pseudo_df.to_csv(PATH+f'/pseudo_{CLOUD_TYPE}_initial.csv', index=False)\n",
    "pseudo_df_test_isna[['path']].to_csv(PATH+f'/pseudo_test_{CLOUD_TYPE}_initial.csv', index=False)\n"
   ]
  },
  {
   "cell_type": "code",
   "execution_count": null,
   "metadata": {},
   "outputs": [],
   "source": []
  },
  {
   "cell_type": "code",
   "execution_count": null,
   "metadata": {},
   "outputs": [],
   "source": []
  }
 ],
 "metadata": {
  "kernelspec": {
   "display_name": "conda_pytorch_p36",
   "language": "python",
   "name": "conda_pytorch_p36"
  },
  "language_info": {
   "codemirror_mode": {
    "name": "ipython",
    "version": 3
   },
   "file_extension": ".py",
   "mimetype": "text/x-python",
   "name": "python",
   "nbconvert_exporter": "python",
   "pygments_lexer": "ipython3",
   "version": "3.6.5"
  }
 },
 "nbformat": 4,
 "nbformat_minor": 2
}
